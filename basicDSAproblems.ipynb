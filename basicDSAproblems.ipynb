{
 "cells": [
  {
   "cell_type": "code",
   "execution_count": null,
   "metadata": {},
   "outputs": [],
   "source": [
    "# Count number of even and odd elements in an array\n",
    "\n",
    "# Average numbers in array\n",
    "\n",
    "# Program to print the given digit in words\n",
    "\n",
    "# Check if a large number is divisible by 6 or not\n",
    "\n",
    "# Check if a number is Palindrome\n",
    "\n",
    "# Program to count vowels in a string\n",
    "\n",
    "# Check if given number is perfect square\n",
    "\n",
    "# Program to find the maximum element in a Matrix\n",
    "\n",
    "# Program for Sum of the digits of a given number\n",
    "\n",
    "# Sum of square-sums of first n natural numbers\n",
    "\n",
    "# Program for Armstrong Numbers\n",
    "\n",
    "# Program for factorial of a number\n",
    "\n",
    "# Program to check if an array is sorted or not\n",
    "\n",
    "# Program to print multiplication table of a number\n",
    "\n",
    "# Check if a word is present in a sentence\n",
    "\n",
    "# Segregate 0s and 1s in an array\n",
    "\n",
    "# What are Prime Numbers?\n",
    "\n",
    "# Write a program to reverse digits of a number\n",
    "\n",
    "# Find Second largest element in an array\n",
    "\n",
    "# Display the Longest Name"
   ]
  },
  {
   "cell_type": "code",
   "execution_count": 2,
   "metadata": {},
   "outputs": [
    {
     "name": "stdout",
     "output_type": "stream",
     "text": [
      "Even: 3 Odd 2\n"
     ]
    }
   ],
   "source": [
    "# Count number of even and odd elements in an array\n",
    "\n",
    "arr = [2, 3, 4, 5, 6]\n",
    "even =0\n",
    "odd = 0\n",
    "for i in range(len(arr)):\n",
    "    if arr[i] % 2 == 0:\n",
    "        even+=1\n",
    "    else:\n",
    "        odd+=1\n",
    "\n",
    "print(\"Even:\",even,\"Odd\",odd)"
   ]
  },
  {
   "cell_type": "code",
   "execution_count": 4,
   "metadata": {},
   "outputs": [
    {
     "name": "stdout",
     "output_type": "stream",
     "text": [
      "4\n"
     ]
    }
   ],
   "source": [
    "# Average numbers in array\n",
    "arr = [2, 3, 4, 5, 6]\n",
    "sum = 0\n",
    "for i in range(len(arr)):\n",
    "    sum+=arr[i]\n",
    "avg = sum/len(arr)\n",
    "print(int(avg))"
   ]
  },
  {
   "cell_type": "code",
   "execution_count": 8,
   "metadata": {},
   "outputs": [
    {
     "name": "stdout",
     "output_type": "stream",
     "text": [
      "One Two Three "
     ]
    }
   ],
   "source": [
    "# Program to print the given digit in words\n",
    "n = '123'\n",
    "\n",
    "obj = {\n",
    "    1 : 'One',\n",
    "    2 : 'Two',\n",
    "    3 : 'Three',\n",
    "    4: 'four',\n",
    "    5: 'five',\n",
    "    6: 'six',\n",
    "    7: 'seven',\n",
    "    8: 'eight',\n",
    "    9: 'nine',\n",
    "    0:'zero'\n",
    "}\n",
    "\n",
    "for i in range(len(n)):\n",
    "    key = int(n[i])\n",
    "    if key in obj:\n",
    "        print(obj[key],end=' ') "
   ]
  },
  {
   "cell_type": "code",
   "execution_count": null,
   "metadata": {},
   "outputs": [],
   "source": [
    "# Check if a number is Palindrome\n",
    "\n",
    "n = 1221\n",
    "\n"
   ]
  }
 ],
 "metadata": {
  "kernelspec": {
   "display_name": "Python 3",
   "language": "python",
   "name": "python3"
  },
  "language_info": {
   "codemirror_mode": {
    "name": "ipython",
    "version": 3
   },
   "file_extension": ".py",
   "mimetype": "text/x-python",
   "name": "python",
   "nbconvert_exporter": "python",
   "pygments_lexer": "ipython3",
   "version": "3.9.6"
  }
 },
 "nbformat": 4,
 "nbformat_minor": 2
}
