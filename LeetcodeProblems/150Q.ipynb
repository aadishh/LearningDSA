{
 "cells": [
  {
   "cell_type": "code",
   "execution_count": 2,
   "metadata": {},
   "outputs": [
    {
     "name": "stdout",
     "output_type": "stream",
     "text": [
      "[1, 2]\n"
     ]
    }
   ],
   "source": [
    "#sum of two numbers in an list\n",
    "from typing import List\n",
    "\n",
    "class Solution:\n",
    "    def twoSum(self, nums: List[int], target: int) -> List[int]:\n",
    "        n = len(nums)\n",
    "        for i in range(n):\n",
    "            for j in range(i+1,n):\n",
    "                if nums[i] + nums[j] == target:\n",
    "                    return [i,j]\n",
    "        # You can add the logic for the two sum problem here\n",
    "        return []\n",
    "\n",
    "# Create an instance of the Solution class\n",
    "solution = Solution()\n",
    "# Call the twoSum method with an array and a target value\n",
    "result = solution.twoSum([3,2,4], 6)\n",
    "print(result)\n",
    "\n",
    "\n",
    "#Time Complexity:O(n²) \n",
    "#Space Complexity:O(1) "
   ]
  },
  {
   "cell_type": "code",
   "execution_count": 3,
   "metadata": {},
   "outputs": [
    {
     "name": "stdout",
     "output_type": "stream",
     "text": [
      "[1, 2]\n"
     ]
    }
   ],
   "source": [
    "#optimal soultion using hash method \n",
    "class Solution:\n",
    "    def twoSum(self, nums: List[int], target: int) -> List[int]:\n",
    "        seen ={}\n",
    "        for i, num in enumerate(nums):\n",
    "            complement = target - num\n",
    "            if complement in seen:\n",
    "                return [seen[complement],i]\n",
    "            seen[num] = i\n",
    "        return []\n",
    "# Create an instance of the Solution class\n",
    "solution = Solution()\n",
    "# Call the twoSum method with an array and a target value\n",
    "result = solution.twoSum([3,2,4], 6)\n",
    "print(result)\n"
   ]
  },
  {
   "cell_type": "code",
   "execution_count": 4,
   "metadata": {},
   "outputs": [
    {
     "name": "stdout",
     "output_type": "stream",
     "text": [
      "False\n"
     ]
    }
   ],
   "source": [
    "class Solution:\n",
    "    def isValid(self, s: str) -> bool:\n",
    "        n = len(s)\n",
    "        for i in range(n):\n",
    "            if s[i] == s[i+1]:\n",
    "                return True\n",
    "            else:\n",
    "                return False\n",
    "        return False\n",
    "\n",
    "\n",
    "\n",
    "solution = Solution()\n",
    "result = solution.isValid(\"()\")\n",
    "print(result)"
   ]
  },
  {
   "cell_type": "code",
   "execution_count": 51,
   "metadata": {},
   "outputs": [
    {
     "name": "stdout",
     "output_type": "stream",
     "text": [
      "[1, 2, 2, 3, 5, 6]\n"
     ]
    }
   ],
   "source": [
    "#merge sort array\n",
    "\n",
    "class Solution:\n",
    "    def merge(self, nums1: List[int], m: int, nums2: List[int], n: int) -> None:\n",
    "        # Pointers to the last valid elements in nums1, nums2, and the end of nums1\n",
    "        i, j, k = m - 1, n - 1, m + n - 1\n",
    "        \n",
    "        # Using a for loop to iterate from the end to the start\n",
    "        for _ in range(m + n):  # We know we will perform m + n iterations\n",
    "            if i >= 0 and (j < 0 or nums1[i] > nums2[j]):\n",
    "                nums1[k] = nums1[i]\n",
    "                i -= 1\n",
    "            else:\n",
    "                nums1[k] = nums2[j]\n",
    "                j -= 1\n",
    "            k -= 1\n",
    "\n",
    "        # Return nums1 if you want to capture the result\n",
    "        return nums1\n",
    "\n",
    "solution = Solution()\n",
    "result = solution.merge([1,2,3,0,0,0],3,[2,5,6],3)\n",
    "print(result)"
   ]
  }
 ],
 "metadata": {
  "kernelspec": {
   "display_name": "Python 3",
   "language": "python",
   "name": "python3"
  },
  "language_info": {
   "codemirror_mode": {
    "name": "ipython",
    "version": 3
   },
   "file_extension": ".py",
   "mimetype": "text/x-python",
   "name": "python",
   "nbconvert_exporter": "python",
   "pygments_lexer": "ipython3",
   "version": "3.9.6"
  }
 },
 "nbformat": 4,
 "nbformat_minor": 2
}
