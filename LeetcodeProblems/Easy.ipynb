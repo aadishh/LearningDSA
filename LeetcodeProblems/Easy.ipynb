{
 "cells": [
  {
   "cell_type": "code",
   "execution_count": 2,
   "metadata": {},
   "outputs": [],
   "source": [
    "from typing import List"
   ]
  },
  {
   "cell_type": "code",
   "execution_count": 3,
   "metadata": {},
   "outputs": [
    {
     "name": "stdout",
     "output_type": "stream",
     "text": [
      "False\n"
     ]
    }
   ],
   "source": [
    "#easy level problem\n",
    "\n",
    "\n",
    "class Solution:\n",
    "    def isPalindrome(self, x: int) -> bool:\n",
    "\n",
    "        #this can be solved by 2 methods \n",
    "        #method 1 :\n",
    "        # string Method\n",
    "\n",
    "        # x = str(x)\n",
    "        # return x == x[::-1]\n",
    "    \n",
    "        # method 2\n",
    "        if x < 0 or (x!= 0 and x % 10 == 0):\n",
    "            return False\n",
    "        half = 0\n",
    "        while x > half:\n",
    "            half = (half * 10) + (x % 10)\n",
    "            x = x // 10\n",
    "\n",
    "            return x == half or x == half // 10\n",
    "\n",
    "solution = Solution()\n",
    "result = solution.isPalindrome(121)\n",
    "print(result)\n"
   ]
  },
  {
   "cell_type": "code",
   "execution_count": 4,
   "metadata": {},
   "outputs": [
    {
     "name": "stdout",
     "output_type": "stream",
     "text": [
      "[8, 4, 6, 5, 6]\n"
     ]
    }
   ],
   "source": [
    "class Solution:\n",
    "    def getFinalState(self, nums: List[int], k: int, multiplier: int) -> List[int]:\n",
    "        for i in range(k):\n",
    "            min_index = nums.index(min(nums))\n",
    "            nums[min_index] *= multiplier\n",
    "        return nums          \n",
    "    \n",
    "solution = Solution()\n",
    "result = solution.getFinalState([2,1,3,5,6],5,2)\n",
    "print(result)"
   ]
  },
  {
   "cell_type": "code",
   "execution_count": 5,
   "metadata": {},
   "outputs": [
    {
     "name": "stdout",
     "output_type": "stream",
     "text": [
      "True\n"
     ]
    }
   ],
   "source": [
    "# class Solution:\n",
    "#     def checkIfExist(self, arr: List[int]) -> bool:\n",
    "#             n = len(arr)\n",
    "#             for i in range(n):\n",
    "#                 for j in range(i+1,n):\n",
    "#                     if arr[i] == 2* arr[j] or arr[j] == 2*arr[i]:\n",
    "#                         return True\n",
    "#             return False\n",
    "\n",
    "# solution = Solution()\n",
    "# result = solution.checkIfExist([7,1,14,11])\n",
    "# print(result)\n",
    "\n",
    "\n",
    "\n",
    "\n",
    "# the best approch is check the multiple of 2 or divider of 2 of that number \n",
    "class Solution:\n",
    "    def checkIfExist(self, arr: List[int]) -> bool:\n",
    "            seen =set()\n",
    "            for num in arr:\n",
    "                if num *2 in seen or num / 2 in seen:\n",
    "                    return True\n",
    "                seen.add(num)\n",
    "            return False\n",
    "\n",
    "solution = Solution()\n",
    "result = solution.checkIfExist([7,1,14,11])\n",
    "print(result)\n"
   ]
  },
  {
   "cell_type": "code",
   "execution_count": 6,
   "metadata": {},
   "outputs": [
    {
     "name": "stdout",
     "output_type": "stream",
     "text": [
      "2\n"
     ]
    }
   ],
   "source": [
    "class Solution:\n",
    "    def removeElement(self, nums: List[int], val: int) -> int:\n",
    "        # n = len(nums) - 1\n",
    "        # print(n)\n",
    "        # for i in range(n) :\n",
    "        #     if nums[i] == val:\n",
    "        #         nums.remove(nums[i])            \n",
    "        # return nums\n",
    "        k = 0\n",
    "        for i in range(len(nums)):\n",
    "            if nums[i] != val:\n",
    "                nums[k] = nums[i]\n",
    "                k += 1\n",
    "        return k\n",
    "\n",
    "\n",
    "solution = Solution()\n",
    "result = solution.removeElement([3,2,2,3],3)\n",
    "print(result)"
   ]
  },
  {
   "cell_type": "code",
   "execution_count": 11,
   "metadata": {},
   "outputs": [
    {
     "name": "stdout",
     "output_type": "stream",
     "text": [
      "2\n"
     ]
    }
   ],
   "source": [
    "class Solution:\n",
    "    def removeDuplicates(self, nums: List[int]) -> int: \n",
    "        i = 0\n",
    "\n",
    "        for j in range(1, len(nums)):\n",
    "            if nums[j] != nums[i]:\n",
    "                i += 1\n",
    "                nums[i] = nums[j]\n",
    "        \n",
    "        return i + 1\n",
    "\n",
    "solution = Solution()\n",
    "result = solution.removeDuplicates( [1,1,2])\n",
    "print(result)"
   ]
  }
 ],
 "metadata": {
  "kernelspec": {
   "display_name": "Python 3",
   "language": "python",
   "name": "python3"
  },
  "language_info": {
   "codemirror_mode": {
    "name": "ipython",
    "version": 3
   },
   "file_extension": ".py",
   "mimetype": "text/x-python",
   "name": "python",
   "nbconvert_exporter": "python",
   "pygments_lexer": "ipython3",
   "version": "3.9.6"
  }
 },
 "nbformat": 4,
 "nbformat_minor": 2
}
